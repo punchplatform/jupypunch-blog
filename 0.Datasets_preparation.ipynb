{
 "cells": [
  {
   "cell_type": "markdown",
   "id": "387de36e",
   "metadata": {},
   "source": [
    "# Notebook to generate three datasets\n",
    "\n",
    "- two datasets for development stored in s3 (train and test)\n",
    "- one dataset stored in elasticsearch to simulate the production"
   ]
  },
  {
   "cell_type": "markdown",
   "id": "75c53876",
   "metadata": {},
   "source": [
    "### Creation of a pex with Python dependencies\n",
    "\n",
    "Some basic Python modules are already available in Punch images (ex: pandas). If you need some specific dependencies you need to generate a pex. This same pex will be used in development and in production in order to limit version changes between these two environments.\n",
    "\n",
    "Here we only need sklearn module but you can give a list of modules if needed (see [punch_pex](https://punch-1.gitbook.io/punch-doc/v/welcome-to-the-punch/applications/jupyter/magic-commands#punchpex))."
   ]
  },
  {
   "cell_type": "code",
   "execution_count": 1,
   "id": "ce82c04a",
   "metadata": {
    "execution": {
     "iopub.execute_input": "2022-11-02T13:50:02.289915Z",
     "iopub.status.busy": "2022-11-02T13:50:02.289616Z",
     "iopub.status.idle": "2022-11-02T13:50:18.150286Z",
     "shell.execute_reply": "2022-11-02T13:50:18.149825Z",
     "shell.execute_reply.started": "2022-11-02T13:50:02.289867Z"
    }
   },
   "outputs": [
    {
     "name": "stdout",
     "output_type": "stream",
     "text": [
      "  adding: dependencies-1.0.0.pex (deflated 2%)\n",
      "  adding: metadata.yml (deflated 26%)\n"
     ]
    },
    {
     "name": "stderr",
     "output_type": "stream",
     "text": [
      "++ java -Xmx1g -Xms256m -Dlog4j.configurationFile=/punch/conf/log4j2/log4j2-stdout.xml -cp /punch/resourcectl.jar com.github.punchplatform.resourcectl.ResourceCtl -u http://artifacts-server.punch-artifacts:4245 upload -f /punch/punch_pex/dependencies-1.0.0.zip -o\n"
     ]
    },
    {
     "name": "stdout",
     "output_type": "stream",
     "text": [
      "Resource uploaded : additional-pex:demo:dependencies:1.0.0\n"
     ]
    }
   ],
   "source": [
    "%punch_pex -l scikit-learn mlflow --group demo --artifact dependencies -v 1.0.0 -o"
   ]
  },
  {
   "cell_type": "markdown",
   "id": "c9ccbe5e",
   "metadata": {},
   "source": [
    "### Adding dependencies to the environment\n",
    "\n",
    "This notebook only needs the pex created above. Thus we load it via the [punch_dependencies](https://punch-1.gitbook.io/punch-doc/v/welcome-to-the-punch/applications/jupyter/magic-commands#punchdependencies) magic cell."
   ]
  },
  {
   "cell_type": "code",
   "execution_count": null,
   "id": "cfc03bf1",
   "metadata": {
    "execution": {
     "iopub.execute_input": "2022-11-02T13:50:46.040478Z",
     "iopub.status.busy": "2022-11-02T13:50:46.040186Z",
     "iopub.status.idle": "2022-11-02T13:50:46.797908Z",
     "shell.execute_reply": "2022-11-02T13:50:46.797495Z",
     "shell.execute_reply.started": "2022-11-02T13:50:46.040464Z"
    }
   },
   "outputs": [
    {
     "name": "stderr",
     "output_type": "stream",
     "text": [
      "++ java -Xmx1g -Xms256m -Dlog4j.configurationFile=/punch/conf/log4j2/log4j2-stdout.xml -cp /punch/resourcectl.jar com.github.punchplatform.resourcectl.ResourceCtl -u http://artifacts-server.punch-artifacts:4245 download -r additional-pex:demo:dependencies:1.0.0 -o /usr/share/punch/extlib/python\n"
     ]
    },
    {
     "name": "stdout",
     "output_type": "stream",
     "text": [
      "Resource additional-pex:demo:dependencies:1.0.0 downloaded to /usr/share/punch/extlib/python/dependencies-1.0.0.pex\n"
     ]
    },
    {
     "data": {
      "application/javascript": [
       "Jupyter.notebook.session.restart({kernel_name: 'python3_punch_python'})"
      ],
      "text/plain": [
       "<IPython.core.display.Javascript object>"
      ]
     },
     "metadata": {},
     "output_type": "display_data"
    }
   ],
   "source": [
    "%%punch_dependencies\n",
    "additional-pex:demo:dependencies:1.0.0"
   ]
  },
  {
   "cell_type": "markdown",
   "id": "7b327af4",
   "metadata": {},
   "source": [
    "### Importing modules"
   ]
  },
  {
   "cell_type": "code",
   "execution_count": 1,
   "id": "e651ae3b",
   "metadata": {},
   "outputs": [],
   "source": [
    "import pandas as pd\n",
    "from sklearn.model_selection import train_test_split"
   ]
  },
  {
   "cell_type": "markdown",
   "id": "dc0db7d3",
   "metadata": {},
   "source": [
    "### Reading data from s3\n",
    "Punch provides magic cells to read data from different sources. If your JupyPunch was deployed with preconfigured databases then you do not need to rewrite your login credentials.\n",
    "\n",
    "Here, the Kaggle file has been loaded into a minio bucket named \"demo\". We read the file and store the data in a variable called \"data\". ([punch_source](https://punch-1.gitbook.io/punch-doc/v/welcome-to-the-punch/applications/jupyter/magic-commands#punchsource-and-punchsink))"
   ]
  },
  {
   "cell_type": "code",
   "execution_count": 2,
   "id": "07a330b0",
   "metadata": {
    "execution": {
     "iopub.execute_input": "2022-11-02T13:51:00.949348Z",
     "iopub.status.busy": "2022-11-02T13:51:00.948447Z",
     "iopub.status.idle": "2022-11-02T13:51:01.863644Z",
     "shell.execute_reply": "2022-11-02T13:51:01.863167Z",
     "shell.execute_reply.started": "2022-11-02T13:51:00.949319Z"
    }
   },
   "outputs": [
    {
     "name": "stdout",
     "output_type": "stream",
     "text": [
      "Data is available in data variable.\n",
      "Execution time: 0:00:00.685834\n"
     ]
    }
   ],
   "source": [
    "%%punch_source --type s3 --name data -o \n",
    "bucket: demo\n",
    "prefix: card"
   ]
  },
  {
   "cell_type": "code",
   "execution_count": 3,
   "id": "adf952c5-a65a-4a85-a54b-d73d05484d0c",
   "metadata": {
    "execution": {
     "iopub.execute_input": "2022-11-02T13:51:48.960963Z",
     "iopub.status.busy": "2022-11-02T13:51:48.960301Z",
     "iopub.status.idle": "2022-11-02T13:51:48.969906Z",
     "shell.execute_reply": "2022-11-02T13:51:48.969523Z",
     "shell.execute_reply.started": "2022-11-02T13:51:48.960946Z"
    }
   },
   "outputs": [
    {
     "data": {
      "text/html": [
       "<div>\n",
       "<style scoped>\n",
       "    .dataframe tbody tr th:only-of-type {\n",
       "        vertical-align: middle;\n",
       "    }\n",
       "\n",
       "    .dataframe tbody tr th {\n",
       "        vertical-align: top;\n",
       "    }\n",
       "\n",
       "    .dataframe thead th {\n",
       "        text-align: right;\n",
       "    }\n",
       "</style>\n",
       "<table border=\"1\" class=\"dataframe\">\n",
       "  <thead>\n",
       "    <tr style=\"text-align: right;\">\n",
       "      <th></th>\n",
       "      <th>distance_from_home</th>\n",
       "      <th>distance_from_last_transaction</th>\n",
       "      <th>ratio_to_median_purchase_price</th>\n",
       "      <th>repeat_retailer</th>\n",
       "      <th>used_chip</th>\n",
       "      <th>used_pin_number</th>\n",
       "      <th>online_order</th>\n",
       "      <th>fraud</th>\n",
       "      <th>_ppf_path</th>\n",
       "      <th>_ppf_last_modified</th>\n",
       "    </tr>\n",
       "  </thead>\n",
       "  <tbody>\n",
       "    <tr>\n",
       "      <th>0</th>\n",
       "      <td>57.877857</td>\n",
       "      <td>0.311140</td>\n",
       "      <td>1.945940</td>\n",
       "      <td>1.0</td>\n",
       "      <td>1.0</td>\n",
       "      <td>0.0</td>\n",
       "      <td>0.0</td>\n",
       "      <td>0.0</td>\n",
       "      <td>card_transdata.csv</td>\n",
       "      <td>1.671010e+09</td>\n",
       "    </tr>\n",
       "    <tr>\n",
       "      <th>1</th>\n",
       "      <td>10.829943</td>\n",
       "      <td>0.175592</td>\n",
       "      <td>1.294219</td>\n",
       "      <td>1.0</td>\n",
       "      <td>0.0</td>\n",
       "      <td>0.0</td>\n",
       "      <td>0.0</td>\n",
       "      <td>0.0</td>\n",
       "      <td>card_transdata.csv</td>\n",
       "      <td>1.671010e+09</td>\n",
       "    </tr>\n",
       "  </tbody>\n",
       "</table>\n",
       "</div>"
      ],
      "text/plain": [
       "   distance_from_home  distance_from_last_transaction  \\\n",
       "0           57.877857                        0.311140   \n",
       "1           10.829943                        0.175592   \n",
       "\n",
       "   ratio_to_median_purchase_price  repeat_retailer  used_chip  \\\n",
       "0                        1.945940              1.0        1.0   \n",
       "1                        1.294219              1.0        0.0   \n",
       "\n",
       "   used_pin_number  online_order  fraud           _ppf_path  \\\n",
       "0              0.0           0.0    0.0  card_transdata.csv   \n",
       "1              0.0           0.0    0.0  card_transdata.csv   \n",
       "\n",
       "   _ppf_last_modified  \n",
       "0        1.671010e+09  \n",
       "1        1.671010e+09  "
      ]
     },
     "execution_count": 3,
     "metadata": {},
     "output_type": "execute_result"
    }
   ],
   "source": [
    "data.head(2)"
   ]
  },
  {
   "cell_type": "code",
   "execution_count": 4,
   "id": "7c25f299",
   "metadata": {
    "execution": {
     "iopub.execute_input": "2022-11-02T13:51:17.381459Z",
     "iopub.status.busy": "2022-11-02T13:51:17.381094Z",
     "iopub.status.idle": "2022-11-02T13:51:17.384414Z",
     "shell.execute_reply": "2022-11-02T13:51:17.383970Z",
     "shell.execute_reply.started": "2022-11-02T13:51:17.381442Z"
    }
   },
   "outputs": [
    {
     "name": "stdout",
     "output_type": "stream",
     "text": [
      "Number of data 1000000\n"
     ]
    }
   ],
   "source": [
    "print(\"Number of data\", len(data))"
   ]
  },
  {
   "cell_type": "markdown",
   "id": "bc391be4",
   "metadata": {},
   "source": [
    "### Removing unused columns"
   ]
  },
  {
   "cell_type": "code",
   "execution_count": 5,
   "id": "772c8836",
   "metadata": {},
   "outputs": [
    {
     "data": {
      "text/html": [
       "<div>\n",
       "<style scoped>\n",
       "    .dataframe tbody tr th:only-of-type {\n",
       "        vertical-align: middle;\n",
       "    }\n",
       "\n",
       "    .dataframe tbody tr th {\n",
       "        vertical-align: top;\n",
       "    }\n",
       "\n",
       "    .dataframe thead th {\n",
       "        text-align: right;\n",
       "    }\n",
       "</style>\n",
       "<table border=\"1\" class=\"dataframe\">\n",
       "  <thead>\n",
       "    <tr style=\"text-align: right;\">\n",
       "      <th></th>\n",
       "      <th>distance_from_home</th>\n",
       "      <th>distance_from_last_transaction</th>\n",
       "      <th>ratio_to_median_purchase_price</th>\n",
       "      <th>repeat_retailer</th>\n",
       "      <th>used_chip</th>\n",
       "      <th>used_pin_number</th>\n",
       "      <th>online_order</th>\n",
       "      <th>fraud</th>\n",
       "    </tr>\n",
       "  </thead>\n",
       "  <tbody>\n",
       "    <tr>\n",
       "      <th>0</th>\n",
       "      <td>57.877857</td>\n",
       "      <td>0.311140</td>\n",
       "      <td>1.945940</td>\n",
       "      <td>1.0</td>\n",
       "      <td>1.0</td>\n",
       "      <td>0.0</td>\n",
       "      <td>0.0</td>\n",
       "      <td>0.0</td>\n",
       "    </tr>\n",
       "    <tr>\n",
       "      <th>1</th>\n",
       "      <td>10.829943</td>\n",
       "      <td>0.175592</td>\n",
       "      <td>1.294219</td>\n",
       "      <td>1.0</td>\n",
       "      <td>0.0</td>\n",
       "      <td>0.0</td>\n",
       "      <td>0.0</td>\n",
       "      <td>0.0</td>\n",
       "    </tr>\n",
       "  </tbody>\n",
       "</table>\n",
       "</div>"
      ],
      "text/plain": [
       "   distance_from_home  distance_from_last_transaction  \\\n",
       "0           57.877857                        0.311140   \n",
       "1           10.829943                        0.175592   \n",
       "\n",
       "   ratio_to_median_purchase_price  repeat_retailer  used_chip  \\\n",
       "0                        1.945940              1.0        1.0   \n",
       "1                        1.294219              1.0        0.0   \n",
       "\n",
       "   used_pin_number  online_order  fraud  \n",
       "0              0.0           0.0    0.0  \n",
       "1              0.0           0.0    0.0  "
      ]
     },
     "execution_count": 5,
     "metadata": {},
     "output_type": "execute_result"
    }
   ],
   "source": [
    "data = data.drop([\"_ppf_path\", \"_ppf_last_modified\"], axis = 1)\n",
    "data.head(2)"
   ]
  },
  {
   "cell_type": "markdown",
   "id": "dd0e5c01",
   "metadata": {},
   "source": [
    "### Splitting dataframe into train and test"
   ]
  },
  {
   "cell_type": "code",
   "execution_count": 6,
   "id": "b6579f9e",
   "metadata": {},
   "outputs": [],
   "source": [
    "X_train, X_test, y_train, y_test = train_test_split(data.drop([\"fraud\"], axis=1), data[\"fraud\"], test_size=0.3, stratify=data[\"fraud\"], random_state=42)"
   ]
  },
  {
   "cell_type": "code",
   "execution_count": 7,
   "id": "afc922ec",
   "metadata": {},
   "outputs": [],
   "source": [
    "train = pd.concat([X_train, y_train], axis=1)\n",
    "test = pd.concat([X_test, y_test], axis=1)"
   ]
  },
  {
   "cell_type": "markdown",
   "id": "3a06f3ad",
   "metadata": {},
   "source": [
    "### Export complete dataset as production and train and test as development\n",
    "\n",
    "Like for sources, Punch provides magic cell to write data in different preconfigured databases ([punch_sink](https://punch-1.gitbook.io/punch-doc/v/welcome-to-the-punch/applications/jupyter/magic-commands#punchsource-and-punchsink)).\n",
    "\n",
    "We export the entire initial file in elasticsearch and the train and test in minio."
   ]
  },
  {
   "cell_type": "code",
   "execution_count": 9,
   "id": "eb9aa196",
   "metadata": {},
   "outputs": [],
   "source": [
    "data = data[0:100000]"
   ]
  },
  {
   "cell_type": "code",
   "execution_count": 10,
   "id": "f055e66b",
   "metadata": {},
   "outputs": [
    {
     "name": "stdout",
     "output_type": "stream",
     "text": [
      "Data saved.\n",
      "Execution time: 0:00:03.542044\n"
     ]
    }
   ],
   "source": [
    "%%punch_sink --type elasticsearch -df data\n",
    "index:\n",
    "    type: constant\n",
    "    value: credit_card"
   ]
  },
  {
   "cell_type": "code",
   "execution_count": 11,
   "id": "c8f68764",
   "metadata": {},
   "outputs": [
    {
     "name": "stdout",
     "output_type": "stream",
     "text": [
      "\u001b[34mcreated train/train.csv object; bucket: demo ; etag: \"f30aa4218434300e8c32715470d5a4ec\"\u001b[0m\n",
      "Data saved.\n",
      "Execution time: 0:00:03.379350\n"
     ]
    }
   ],
   "source": [
    "%%punch_sink --type s3 -df train\n",
    "bucket: demo\n",
    "path: train/train.csv"
   ]
  },
  {
   "cell_type": "code",
   "execution_count": 12,
   "id": "7f58240e",
   "metadata": {},
   "outputs": [
    {
     "name": "stdout",
     "output_type": "stream",
     "text": [
      "\u001b[34mcreated test/test.csv object; bucket: demo ; etag: \"6511e9e964031113cd17726abb40d774\"\u001b[0m\n",
      "Data saved.\n",
      "Execution time: 0:00:01.525942\n"
     ]
    }
   ],
   "source": [
    "%%punch_sink --type s3 -df test\n",
    "bucket: demo\n",
    "path: test/test.csv"
   ]
  },
  {
   "cell_type": "code",
   "execution_count": null,
   "id": "378fbb07",
   "metadata": {},
   "outputs": [],
   "source": []
  }
 ],
 "metadata": {
  "kernelspec": {
   "display_name": "Punch Python",
   "language": "python",
   "name": "python3_punch_python"
  },
  "language_info": {
   "codemirror_mode": {
    "name": "ipython",
    "version": 3
   },
   "file_extension": ".py",
   "mimetype": "text/x-python",
   "name": "python",
   "nbconvert_exporter": "python",
   "pygments_lexer": "ipython3",
   "version": "3.10.4"
  }
 },
 "nbformat": 4,
 "nbformat_minor": 5
}
