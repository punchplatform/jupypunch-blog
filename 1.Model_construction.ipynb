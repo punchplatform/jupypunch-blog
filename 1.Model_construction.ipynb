{
 "cells": [
  {
   "cell_type": "markdown",
   "id": "aee1a0e2",
   "metadata": {},
   "source": [
    "# Notebook to train a model\n",
    "\n",
    "We will train a model on kaggle dataset to detect credit card fraud. This model will be uploaded as a versioned model artifact in order to be used in a production context."
   ]
  },
  {
   "cell_type": "markdown",
   "id": "07c50058",
   "metadata": {},
   "source": [
    "### Adding dependencies to the environment\n",
    "\n",
    "This notebook only needs the pex created previously. Thus we load it via the [punch_dependencies](https://punch-1.gitbook.io/punch-doc/v/welcome-to-the-punch/applications/jupyter/magic-commands#punchdependencies) magic cell."
   ]
  },
  {
   "cell_type": "code",
   "execution_count": null,
   "id": "2b4abea9",
   "metadata": {},
   "outputs": [
    {
     "name": "stderr",
     "output_type": "stream",
     "text": [
      "++ java -Xmx1g -Xms256m -Dlog4j.configurationFile=/punch/conf/log4j2/log4j2-stdout.xml -cp /punch/resourcectl.jar com.github.punchplatform.resourcectl.ResourceCtl -u http://artifacts-server.punch-artifacts:4245 download -r additional-pex:demo:dependencies:1.0.0 -o /usr/share/punch/extlib/python\n"
     ]
    },
    {
     "name": "stdout",
     "output_type": "stream",
     "text": [
      "Resource additional-pex:demo:dependencies:1.0.0 downloaded to /usr/share/punch/extlib/python/dependencies-1.0.0.pex\n"
     ]
    },
    {
     "data": {
      "application/javascript": [
       "Jupyter.notebook.session.restart({kernel_name: 'python3_punch_python'})"
      ],
      "text/plain": [
       "<IPython.core.display.Javascript object>"
      ]
     },
     "metadata": {},
     "output_type": "display_data"
    }
   ],
   "source": [
    "%%punch_dependencies\n",
    "additional-pex:demo:dependencies:1.0.0"
   ]
  },
  {
   "cell_type": "markdown",
   "id": "6624ad9b",
   "metadata": {},
   "source": [
    "### Importing modules"
   ]
  },
  {
   "cell_type": "code",
   "execution_count": 1,
   "id": "eab97793",
   "metadata": {},
   "outputs": [],
   "source": [
    "from sklearn import tree\n",
    "from sklearn.metrics import accuracy_score\n",
    "import mlflow"
   ]
  },
  {
   "cell_type": "markdown",
   "id": "64540c82",
   "metadata": {},
   "source": [
    "### Reading data from s3\n",
    "Punch provides magic cells to read data from different sources. If your Jupypunch was deployed with preconfigured databases then you do not need to rewrite your login credentials.\n",
    "\n",
    "Here, the train data set is download from a minio bucket named \"demo\". We read the file and store the data in a variable called \"train\". The testing dataset is loaded in the test variable. ([punch_source](https://punch-1.gitbook.io/punch-doc/v/welcome-to-the-punch/applications/jupyter/magic-commands#punchsource-and-punchsink))"
   ]
  },
  {
   "cell_type": "code",
   "execution_count": 2,
   "id": "4fc13584",
   "metadata": {},
   "outputs": [
    {
     "name": "stdout",
     "output_type": "stream",
     "text": [
      "Data is available in train variable.\n",
      "Execution time: 0:00:00.418407\n"
     ]
    }
   ],
   "source": [
    "%%punch_source --type s3 --name train -o \n",
    "bucket: demo\n",
    "prefix: train/train.csv"
   ]
  },
  {
   "cell_type": "code",
   "execution_count": 3,
   "id": "efc3c5cb",
   "metadata": {},
   "outputs": [
    {
     "name": "stdout",
     "output_type": "stream",
     "text": [
      "Data is available in test variable.\n",
      "Execution time: 0:00:00.166920\n"
     ]
    }
   ],
   "source": [
    "%%punch_source --type s3 --name test -o \n",
    "bucket: demo\n",
    "prefix: test/test.csv"
   ]
  },
  {
   "cell_type": "markdown",
   "id": "a8d7c910",
   "metadata": {},
   "source": [
    "### Removing unused columns\n",
    "\n",
    "Punch source node adds some variables like *_ppf_path* and *_ppf_last_modified* which are useful in some contexts but unnecessary for our example."
   ]
  },
  {
   "cell_type": "code",
   "execution_count": 4,
   "id": "c3dccd17",
   "metadata": {},
   "outputs": [
    {
     "data": {
      "text/html": [
       "<div>\n",
       "<style scoped>\n",
       "    .dataframe tbody tr th:only-of-type {\n",
       "        vertical-align: middle;\n",
       "    }\n",
       "\n",
       "    .dataframe tbody tr th {\n",
       "        vertical-align: top;\n",
       "    }\n",
       "\n",
       "    .dataframe thead th {\n",
       "        text-align: right;\n",
       "    }\n",
       "</style>\n",
       "<table border=\"1\" class=\"dataframe\">\n",
       "  <thead>\n",
       "    <tr style=\"text-align: right;\">\n",
       "      <th></th>\n",
       "      <th>distance_from_home</th>\n",
       "      <th>distance_from_last_transaction</th>\n",
       "      <th>ratio_to_median_purchase_price</th>\n",
       "      <th>repeat_retailer</th>\n",
       "      <th>used_chip</th>\n",
       "      <th>used_pin_number</th>\n",
       "      <th>online_order</th>\n",
       "      <th>fraud</th>\n",
       "    </tr>\n",
       "  </thead>\n",
       "  <tbody>\n",
       "    <tr>\n",
       "      <th>0</th>\n",
       "      <td>4.805367</td>\n",
       "      <td>1.379477</td>\n",
       "      <td>1.236960</td>\n",
       "      <td>1.0</td>\n",
       "      <td>0.0</td>\n",
       "      <td>0.0</td>\n",
       "      <td>0.0</td>\n",
       "      <td>0.0</td>\n",
       "    </tr>\n",
       "    <tr>\n",
       "      <th>1</th>\n",
       "      <td>27.052054</td>\n",
       "      <td>1.766070</td>\n",
       "      <td>0.415689</td>\n",
       "      <td>1.0</td>\n",
       "      <td>0.0</td>\n",
       "      <td>0.0</td>\n",
       "      <td>0.0</td>\n",
       "      <td>0.0</td>\n",
       "    </tr>\n",
       "  </tbody>\n",
       "</table>\n",
       "</div>"
      ],
      "text/plain": [
       "   distance_from_home  distance_from_last_transaction  \\\n",
       "0            4.805367                        1.379477   \n",
       "1           27.052054                        1.766070   \n",
       "\n",
       "   ratio_to_median_purchase_price  repeat_retailer  used_chip  \\\n",
       "0                        1.236960              1.0        0.0   \n",
       "1                        0.415689              1.0        0.0   \n",
       "\n",
       "   used_pin_number  online_order  fraud  \n",
       "0              0.0           0.0    0.0  \n",
       "1              0.0           0.0    0.0  "
      ]
     },
     "execution_count": 4,
     "metadata": {},
     "output_type": "execute_result"
    }
   ],
   "source": [
    "train = train[['distance_from_home', 'distance_from_last_transaction',\n",
    "       'ratio_to_median_purchase_price', 'repeat_retailer', 'used_chip',\n",
    "       'used_pin_number', 'online_order', 'fraud']]\n",
    "train.head(2)"
   ]
  },
  {
   "cell_type": "code",
   "execution_count": 5,
   "id": "a7dab89f",
   "metadata": {},
   "outputs": [
    {
     "data": {
      "text/html": [
       "<div>\n",
       "<style scoped>\n",
       "    .dataframe tbody tr th:only-of-type {\n",
       "        vertical-align: middle;\n",
       "    }\n",
       "\n",
       "    .dataframe tbody tr th {\n",
       "        vertical-align: top;\n",
       "    }\n",
       "\n",
       "    .dataframe thead th {\n",
       "        text-align: right;\n",
       "    }\n",
       "</style>\n",
       "<table border=\"1\" class=\"dataframe\">\n",
       "  <thead>\n",
       "    <tr style=\"text-align: right;\">\n",
       "      <th></th>\n",
       "      <th>distance_from_home</th>\n",
       "      <th>distance_from_last_transaction</th>\n",
       "      <th>ratio_to_median_purchase_price</th>\n",
       "      <th>repeat_retailer</th>\n",
       "      <th>used_chip</th>\n",
       "      <th>used_pin_number</th>\n",
       "      <th>online_order</th>\n",
       "      <th>fraud</th>\n",
       "    </tr>\n",
       "  </thead>\n",
       "  <tbody>\n",
       "    <tr>\n",
       "      <th>0</th>\n",
       "      <td>11.188842</td>\n",
       "      <td>0.067784</td>\n",
       "      <td>1.659848</td>\n",
       "      <td>1.0</td>\n",
       "      <td>0.0</td>\n",
       "      <td>0.0</td>\n",
       "      <td>1.0</td>\n",
       "      <td>0.0</td>\n",
       "    </tr>\n",
       "    <tr>\n",
       "      <th>1</th>\n",
       "      <td>8.359728</td>\n",
       "      <td>0.186258</td>\n",
       "      <td>0.495259</td>\n",
       "      <td>1.0</td>\n",
       "      <td>1.0</td>\n",
       "      <td>0.0</td>\n",
       "      <td>0.0</td>\n",
       "      <td>0.0</td>\n",
       "    </tr>\n",
       "  </tbody>\n",
       "</table>\n",
       "</div>"
      ],
      "text/plain": [
       "   distance_from_home  distance_from_last_transaction  \\\n",
       "0           11.188842                        0.067784   \n",
       "1            8.359728                        0.186258   \n",
       "\n",
       "   ratio_to_median_purchase_price  repeat_retailer  used_chip  \\\n",
       "0                        1.659848              1.0        0.0   \n",
       "1                        0.495259              1.0        1.0   \n",
       "\n",
       "   used_pin_number  online_order  fraud  \n",
       "0              0.0           1.0    0.0  \n",
       "1              0.0           0.0    0.0  "
      ]
     },
     "execution_count": 5,
     "metadata": {},
     "output_type": "execute_result"
    }
   ],
   "source": [
    "test = test[['distance_from_home', 'distance_from_last_transaction',\n",
    "       'ratio_to_median_purchase_price', 'repeat_retailer', 'used_chip',\n",
    "       'used_pin_number', 'online_order', 'fraud']]\n",
    "test.head(2)"
   ]
  },
  {
   "cell_type": "markdown",
   "id": "3ad083d6",
   "metadata": {},
   "source": [
    "### Training the model\n",
    "\n",
    "We train a decision tree classifier on train data."
   ]
  },
  {
   "cell_type": "code",
   "execution_count": 6,
   "id": "bf0bffa6",
   "metadata": {},
   "outputs": [],
   "source": [
    "model = tree.DecisionTreeClassifier()\n",
    "model = model.fit(train.drop(\"fraud\", axis=1).values, train[\"fraud\"].values)"
   ]
  },
  {
   "cell_type": "markdown",
   "id": "1483213a",
   "metadata": {},
   "source": [
    "### Testing the model\n",
    "\n",
    "We test the model on test data."
   ]
  },
  {
   "cell_type": "code",
   "execution_count": 7,
   "id": "54917718",
   "metadata": {},
   "outputs": [
    {
     "name": "stderr",
     "output_type": "stream",
     "text": [
      "/root/.pex/installed_wheels/701181792a28c82fecae12adb5d15d0ecf57bffab7cf4bdbb52c7b3fd428d540/scikit_learn-1.1.3-cp310-cp310-manylinux_2_17_x86_64.manylinux2014_x86_64.whl/sklearn/base.py:443: UserWarning: X has feature names, but DecisionTreeClassifier was fitted without feature names\n",
      "  warnings.warn(\n"
     ]
    },
    {
     "data": {
      "text/plain": [
       "0.9999866666666667"
      ]
     },
     "execution_count": 7,
     "metadata": {},
     "output_type": "execute_result"
    }
   ],
   "source": [
    "prediction = model.predict(test.drop(\"fraud\", axis=1))\n",
    "accuracy_score(test[\"fraud\"], prediction)"
   ]
  },
  {
   "cell_type": "markdown",
   "id": "3905cced",
   "metadata": {},
   "source": [
    "### Saving the model and uploading it as an artifact\n",
    "\n",
    "Once satisfied with model results, we can upload the model in a desired packaging format (here mlflow) via a lambda function. "
   ]
  },
  {
   "cell_type": "code",
   "execution_count": 8,
   "id": "36aec0e1",
   "metadata": {},
   "outputs": [
    {
     "name": "stderr",
     "output_type": "stream",
     "text": [
      "2023/01/23 13:48:37 WARNING mlflow.utils.environment: Encountered an unexpected error while inferring pip requirements (model URI: /tmp/punch_upload_model/demo/credit_card/1.0.0/model.pkl, flavor: sklearn), fall back to return ['scikit-learn==1.1.3', 'cloudpickle==2.2.1']. Set logging level to DEBUG to see the full traceback.\n",
      "/root/.pex/installed_wheels/57f6f22bde4e042978bcd50176fdb381d7c21a9efa4041202288d3737a0c6a54/setuptools-65.6.3-py3-none-any.whl/_distutils_hack/__init__.py:33: UserWarning: Setuptools is replacing distutils.\n",
      "  warnings.warn(\"Setuptools is replacing distutils.\")\n",
      "2023/01/23 13:48:37 WARNING mlflow.utils.environment: Failed to resolve installed pip version. ``pip`` will be added to conda.yaml environment spec without a version specifier.\n",
      "++ java -Xmx1g -Xms256m -Dlog4j.configurationFile=/punch/conf/log4j2/log4j2-stdout.xml -cp /punch/resourcectl.jar com.github.punchplatform.resourcectl.ResourceCtl -u http://artifacts-server.punch-artifacts:4245 upload -f /tmp/punch_upload_model/demo/credit_card/1.0.0/artifact_credit_card_1.0.0.zip -o\n"
     ]
    },
    {
     "name": "stdout",
     "output_type": "stream",
     "text": [
      "Resource uploaded : model:demo:credit_card:1.0.0\n"
     ]
    }
   ],
   "source": [
    "%%punch_upload_model -g demo -n credit_card -v 1.0.0 -o\n",
    "lambda path: mlflow.sklearn.save_model(model, path)"
   ]
  },
  {
   "cell_type": "code",
   "execution_count": null,
   "id": "0519495e",
   "metadata": {},
   "outputs": [],
   "source": []
  }
 ],
 "metadata": {
  "kernelspec": {
   "display_name": "Punch Python",
   "language": "python",
   "name": "python3_punch_python"
  },
  "language_info": {
   "codemirror_mode": {
    "name": "ipython",
    "version": 3
   },
   "file_extension": ".py",
   "mimetype": "text/x-python",
   "name": "python",
   "nbconvert_exporter": "python",
   "pygments_lexer": "ipython3",
   "version": "3.10.4"
  }
 },
 "nbformat": 4,
 "nbformat_minor": 5
}
