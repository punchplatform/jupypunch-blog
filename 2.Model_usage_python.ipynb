{
 "cells": [
  {
   "cell_type": "markdown",
   "id": "ff89964c",
   "metadata": {},
   "source": [
    "# Notebook to use a model\n",
    "\n",
    "Once the model is trained and uploaded to the Artifacts Server, we can use it in a new notebook. Here, we apply the model with the Punch Python Kernel.\n",
    "\n",
    "Since the datascientist doesn't have access to the production dataset, this notebook uses the test dataset. This notebook will be packaged to generate a punchline. The production data set will be used in this punchline."
   ]
  },
  {
   "cell_type": "markdown",
   "id": "b9df1d97",
   "metadata": {},
   "source": [
    "### Adding dependencies to the environment\n",
    "\n",
    "We reuse the pex created in the previous notebook and add the model in the dependencies list."
   ]
  },
  {
   "cell_type": "code",
   "execution_count": null,
   "id": "84abac5f",
   "metadata": {},
   "outputs": [
    {
     "name": "stderr",
     "output_type": "stream",
     "text": [
      "++ java -Xmx1g -Xms256m -Dlog4j.configurationFile=/punch/conf/log4j2/log4j2-stdout.xml -cp /punch/resourcectl.jar com.github.punchplatform.resourcectl.ResourceCtl -u http://artifacts-server.punch-artifacts:4245 download -r additional-pex:demo:dependencies:1.0.0 -o /usr/share/punch/extlib/python\n"
     ]
    },
    {
     "name": "stdout",
     "output_type": "stream",
     "text": [
      "Resource additional-pex:demo:dependencies:1.0.0 downloaded to /usr/share/punch/extlib/python/dependencies-1.0.0.pex\n"
     ]
    },
    {
     "name": "stderr",
     "output_type": "stream",
     "text": [
      "++ java -Xmx1g -Xms256m -Dlog4j.configurationFile=/punch/conf/log4j2/log4j2-stdout.xml -cp /punch/resourcectl.jar com.github.punchplatform.resourcectl.ResourceCtl -u http://artifacts-server.punch-artifacts:4245 download -r model:demo:credit_card:1.0.0\n"
     ]
    },
    {
     "name": "stdout",
     "output_type": "stream",
     "text": [
      "Resource model:demo:credit_card:1.0.0 downloaded to /usr/share/punch/artifacts/demo/credit_card/1.0.0/credit_card_1.0.0.zip\n"
     ]
    },
    {
     "name": "stderr",
     "output_type": "stream",
     "text": [
      "SLF4J: Failed to load class \"org.slf4j.impl.StaticLoggerBinder\".\n",
      "SLF4J: Defaulting to no-operation (NOP) logger implementation\n",
      "SLF4J: See http://www.slf4j.org/codes.html#StaticLoggerBinder for further details.\n"
     ]
    },
    {
     "data": {
      "application/javascript": [
       "Jupyter.notebook.session.restart({kernel_name: 'python3_punch_python'})"
      ],
      "text/plain": [
       "<IPython.core.display.Javascript object>"
      ]
     },
     "metadata": {},
     "output_type": "display_data"
    }
   ],
   "source": [
    "%%punch_dependencies\n",
    "additional-pex:demo:dependencies:1.0.0\n",
    "model:demo:credit_card:1.0.0"
   ]
  },
  {
   "cell_type": "code",
   "execution_count": 1,
   "id": "6cc57f18",
   "metadata": {},
   "outputs": [],
   "source": [
    "import mlflow"
   ]
  },
  {
   "cell_type": "markdown",
   "id": "1355c24e",
   "metadata": {},
   "source": [
    "### Loading the model\n",
    "\n",
    "Punch provides you a magic line to get back the path of the model into a variable. We can thus use this variable to load the model according to the model type (ex mlflow)"
   ]
  },
  {
   "cell_type": "code",
   "execution_count": 2,
   "id": "1c49f5af",
   "metadata": {},
   "outputs": [
    {
     "name": "stdout",
     "output_type": "stream",
     "text": [
      "List of files in the model directory:\n",
      "\t requirements.txt\n",
      "\t credit_card_1.0.0.zip\n",
      "\t conda.yaml\n",
      "\t MLmodel\n",
      "\t model.pkl\n",
      "\t python_env.yaml\n",
      "\n",
      "Model path is available in model_path variable.\n"
     ]
    }
   ],
   "source": [
    "%punch_get_model --model demo:credit_card:1.0.0 --output model_path"
   ]
  },
  {
   "cell_type": "code",
   "execution_count": 3,
   "id": "4b14f268",
   "metadata": {},
   "outputs": [],
   "source": [
    "credit_card_model = mlflow.pyfunc.load_model(model_path)"
   ]
  },
  {
   "cell_type": "markdown",
   "id": "1e9a292c",
   "metadata": {},
   "source": [
    "### Reading data"
   ]
  },
  {
   "cell_type": "code",
   "execution_count": 4,
   "id": "dae1279d",
   "metadata": {},
   "outputs": [
    {
     "name": "stdout",
     "output_type": "stream",
     "text": [
      "Data is available in data variable.\n",
      "Execution time: 0:00:00.217423\n"
     ]
    }
   ],
   "source": [
    "%%punch_source --type s3 --name data -o \n",
    "bucket: demo\n",
    "prefix: test/test.csv"
   ]
  },
  {
   "cell_type": "code",
   "execution_count": 5,
   "id": "e6cb9d1a",
   "metadata": {},
   "outputs": [],
   "source": [
    "data = data[['distance_from_home', 'distance_from_last_transaction',\n",
    "       'ratio_to_median_purchase_price', 'repeat_retailer', 'used_chip',\n",
    "       'used_pin_number', 'online_order', 'fraud']]"
   ]
  },
  {
   "cell_type": "markdown",
   "id": "e48b4eb5",
   "metadata": {},
   "source": [
    "### Adding parameters cell\n",
    "\n",
    "You can define parameters whose value can be overridden when the punchline is executed."
   ]
  },
  {
   "cell_type": "code",
   "execution_count": 6,
   "id": "42814989",
   "metadata": {},
   "outputs": [],
   "source": [
    "#parameters\n",
    "nb_rows = 10000"
   ]
  },
  {
   "cell_type": "code",
   "execution_count": 7,
   "id": "007c44ca",
   "metadata": {},
   "outputs": [],
   "source": [
    "data = data[0:nb_rows]"
   ]
  },
  {
   "cell_type": "markdown",
   "id": "d3a336e4",
   "metadata": {},
   "source": [
    "### Application of the model"
   ]
  },
  {
   "cell_type": "code",
   "execution_count": 8,
   "id": "ec254f7b",
   "metadata": {},
   "outputs": [
    {
     "name": "stderr",
     "output_type": "stream",
     "text": [
      "/root/.pex/installed_wheels/701181792a28c82fecae12adb5d15d0ecf57bffab7cf4bdbb52c7b3fd428d540/scikit_learn-1.1.3-cp310-cp310-manylinux_2_17_x86_64.manylinux2014_x86_64.whl/sklearn/base.py:443: UserWarning: X has feature names, but DecisionTreeClassifier was fitted without feature names\n",
      "  warnings.warn(\n"
     ]
    },
    {
     "data": {
      "text/html": [
       "<div>\n",
       "<style scoped>\n",
       "    .dataframe tbody tr th:only-of-type {\n",
       "        vertical-align: middle;\n",
       "    }\n",
       "\n",
       "    .dataframe tbody tr th {\n",
       "        vertical-align: top;\n",
       "    }\n",
       "\n",
       "    .dataframe thead th {\n",
       "        text-align: right;\n",
       "    }\n",
       "</style>\n",
       "<table border=\"1\" class=\"dataframe\">\n",
       "  <thead>\n",
       "    <tr style=\"text-align: right;\">\n",
       "      <th></th>\n",
       "      <th>distance_from_home</th>\n",
       "      <th>distance_from_last_transaction</th>\n",
       "      <th>ratio_to_median_purchase_price</th>\n",
       "      <th>repeat_retailer</th>\n",
       "      <th>used_chip</th>\n",
       "      <th>used_pin_number</th>\n",
       "      <th>online_order</th>\n",
       "      <th>fraud</th>\n",
       "      <th>prediction</th>\n",
       "    </tr>\n",
       "  </thead>\n",
       "  <tbody>\n",
       "    <tr>\n",
       "      <th>0</th>\n",
       "      <td>11.188842</td>\n",
       "      <td>0.067784</td>\n",
       "      <td>1.659848</td>\n",
       "      <td>1.0</td>\n",
       "      <td>0.0</td>\n",
       "      <td>0.0</td>\n",
       "      <td>1.0</td>\n",
       "      <td>0.0</td>\n",
       "      <td>0.0</td>\n",
       "    </tr>\n",
       "    <tr>\n",
       "      <th>1</th>\n",
       "      <td>8.359728</td>\n",
       "      <td>0.186258</td>\n",
       "      <td>0.495259</td>\n",
       "      <td>1.0</td>\n",
       "      <td>1.0</td>\n",
       "      <td>0.0</td>\n",
       "      <td>0.0</td>\n",
       "      <td>0.0</td>\n",
       "      <td>0.0</td>\n",
       "    </tr>\n",
       "    <tr>\n",
       "      <th>2</th>\n",
       "      <td>11.401608</td>\n",
       "      <td>17.712808</td>\n",
       "      <td>2.364811</td>\n",
       "      <td>1.0</td>\n",
       "      <td>0.0</td>\n",
       "      <td>0.0</td>\n",
       "      <td>0.0</td>\n",
       "      <td>0.0</td>\n",
       "      <td>0.0</td>\n",
       "    </tr>\n",
       "    <tr>\n",
       "      <th>3</th>\n",
       "      <td>3.102588</td>\n",
       "      <td>0.258822</td>\n",
       "      <td>4.853085</td>\n",
       "      <td>1.0</td>\n",
       "      <td>1.0</td>\n",
       "      <td>0.0</td>\n",
       "      <td>0.0</td>\n",
       "      <td>0.0</td>\n",
       "      <td>0.0</td>\n",
       "    </tr>\n",
       "    <tr>\n",
       "      <th>4</th>\n",
       "      <td>4.660351</td>\n",
       "      <td>2.729080</td>\n",
       "      <td>5.257262</td>\n",
       "      <td>1.0</td>\n",
       "      <td>0.0</td>\n",
       "      <td>0.0</td>\n",
       "      <td>1.0</td>\n",
       "      <td>1.0</td>\n",
       "      <td>1.0</td>\n",
       "    </tr>\n",
       "  </tbody>\n",
       "</table>\n",
       "</div>"
      ],
      "text/plain": [
       "   distance_from_home  distance_from_last_transaction  \\\n",
       "0           11.188842                        0.067784   \n",
       "1            8.359728                        0.186258   \n",
       "2           11.401608                       17.712808   \n",
       "3            3.102588                        0.258822   \n",
       "4            4.660351                        2.729080   \n",
       "\n",
       "   ratio_to_median_purchase_price  repeat_retailer  used_chip  \\\n",
       "0                        1.659848              1.0        0.0   \n",
       "1                        0.495259              1.0        1.0   \n",
       "2                        2.364811              1.0        0.0   \n",
       "3                        4.853085              1.0        1.0   \n",
       "4                        5.257262              1.0        0.0   \n",
       "\n",
       "   used_pin_number  online_order  fraud  prediction  \n",
       "0              0.0           1.0    0.0         0.0  \n",
       "1              0.0           0.0    0.0         0.0  \n",
       "2              0.0           0.0    0.0         0.0  \n",
       "3              0.0           0.0    0.0         0.0  \n",
       "4              0.0           1.0    1.0         1.0  "
      ]
     },
     "execution_count": 8,
     "metadata": {},
     "output_type": "execute_result"
    }
   ],
   "source": [
    "data[\"prediction\"] = credit_card_model.predict(data.drop('fraud', axis=1))\n",
    "data.head()"
   ]
  },
  {
   "cell_type": "code",
   "execution_count": 9,
   "id": "7c0c9318",
   "metadata": {},
   "outputs": [
    {
     "data": {
      "text/plain": [
       "fraud  prediction\n",
       "0.0    0.0           9144\n",
       "       1.0              1\n",
       "1.0    1.0            855\n",
       "dtype: int64"
      ]
     },
     "execution_count": 9,
     "metadata": {},
     "output_type": "execute_result"
    }
   ],
   "source": [
    "data.groupby([\"fraud\", \"prediction\"]).size()"
   ]
  },
  {
   "cell_type": "markdown",
   "id": "ee15e09b",
   "metadata": {},
   "source": [
    "### Save results"
   ]
  },
  {
   "cell_type": "code",
   "execution_count": 10,
   "id": "1c5cd9e2",
   "metadata": {},
   "outputs": [
    {
     "name": "stdout",
     "output_type": "stream",
     "text": [
      "\u001b[34mcreated results/df.csv object; bucket: demo ; etag: \"2b74a3252136719561fd17f2b87b7525\"\u001b[0m\n",
      "Data saved.\n",
      "Execution time: 0:00:00.065528\n"
     ]
    }
   ],
   "source": [
    "%%punch_sink --type s3 -df data\n",
    "bucket: demo\n",
    "path: results/df.csv"
   ]
  },
  {
   "cell_type": "code",
   "execution_count": null,
   "id": "13dff9d2",
   "metadata": {},
   "outputs": [],
   "source": []
  }
 ],
 "metadata": {
  "kernelspec": {
   "display_name": "Punch Python",
   "language": "python",
   "name": "python3_punch_python"
  },
  "language_info": {
   "codemirror_mode": {
    "name": "ipython",
    "version": 3
   },
   "file_extension": ".py",
   "mimetype": "text/x-python",
   "name": "python",
   "nbconvert_exporter": "python",
   "pygments_lexer": "ipython3",
   "version": "3.10.4"
  }
 },
 "nbformat": 4,
 "nbformat_minor": 5
}
